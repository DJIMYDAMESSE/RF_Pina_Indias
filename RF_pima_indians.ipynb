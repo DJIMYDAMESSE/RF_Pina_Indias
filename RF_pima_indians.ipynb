{
 "cells": [
  {
   "cell_type": "code",
   "execution_count": 1,
   "metadata": {},
   "outputs": [
    {
     "name": "stderr",
     "output_type": "stream",
     "text": [
      "D:\\Python\\lib\\site-packages\\sklearn\\ensemble\\weight_boosting.py:29: DeprecationWarning: numpy.core.umath_tests is an internal NumPy module and should not be imported. It will be removed in a future NumPy release.\n",
      "  from numpy.core.umath_tests import inner1d\n"
     ]
    }
   ],
   "source": [
    "import pandas            as pd\n",
    "import numpy             as np\n",
    "import matplotlib.pyplot as plt\n",
    "import seaborn           as sns\n",
    "\n",
    "### Model related modules\n",
    "\n",
    "from   sklearn.model_selection import train_test_split\n",
    "from   sklearn                 import model_selection, metrics\n",
    "from   sklearn.ensemble        import RandomForestClassifier\n",
    "from   sklearn.model_selection import RandomizedSearchCV\n",
    "from   sklearn.metrics         import accuracy_score\n",
    "from   sklearn.model_selection import cross_val_score\n",
    "from   sklearn.metrics         import classification_report, confusion_matrix\n",
    "\n",
    "%matplotlib inline"
   ]
  },
  {
   "cell_type": "code",
   "execution_count": 2,
   "metadata": {},
   "outputs": [
    {
     "name": "stdout",
     "output_type": "stream",
     "text": [
      "Index(['preg', 'plas', 'pres', 'skin', 'insulin', 'mass', 'pedi', 'age',\n",
      "       'label'],\n",
      "      dtype='object')\n",
      "(768, 9)\n"
     ]
    }
   ],
   "source": [
    "column_names    = ['preg', 'plas', 'pres', 'skin', 'insulin', 'mass', 'pedi', 'age', 'label']\n",
    "df              = pd.read_csv('D:/RRD/data/pima-indians-diabetes.data.CSV',\\\n",
    "                              header= None, names = column_names)\n",
    "\n",
    "print(df.columns)\n",
    "print(df.shape)"
   ]
  },
  {
   "cell_type": "code",
   "execution_count": 3,
   "metadata": {},
   "outputs": [
    {
     "data": {
      "text/plain": [
       "preg       False\n",
       "plas       False\n",
       "pres       False\n",
       "skin       False\n",
       "insulin    False\n",
       "mass       False\n",
       "pedi       False\n",
       "age        False\n",
       "label      False\n",
       "dtype: bool"
      ]
     },
     "execution_count": 3,
     "metadata": {},
     "output_type": "execute_result"
    }
   ],
   "source": [
    "df.isnull().any()"
   ]
  },
  {
   "cell_type": "code",
   "execution_count": 4,
   "metadata": {},
   "outputs": [
    {
     "data": {
      "text/plain": [
       "preg       657\n",
       "plas       763\n",
       "pres       733\n",
       "skin       541\n",
       "insulin    394\n",
       "mass       757\n",
       "pedi       768\n",
       "age        768\n",
       "label      268\n",
       "dtype: int64"
      ]
     },
     "execution_count": 4,
     "metadata": {},
     "output_type": "execute_result"
    }
   ],
   "source": [
    "df.astype(bool).sum(axis=0)"
   ]
  },
  {
   "cell_type": "code",
   "execution_count": 5,
   "metadata": {
    "collapsed": true
   },
   "outputs": [],
   "source": [
    "df['plas'].replace(0, np.nan, inplace=True)\n",
    "df['pres'].replace(0, np.nan, inplace=True)\n",
    "df['skin'].replace(0, np.nan, inplace=True)\n",
    "df['mass'].replace(0, np.nan, inplace=True)"
   ]
  },
  {
   "cell_type": "code",
   "execution_count": 6,
   "metadata": {},
   "outputs": [
    {
     "data": {
      "text/plain": [
       "preg       False\n",
       "plas        True\n",
       "pres        True\n",
       "skin        True\n",
       "insulin    False\n",
       "mass        True\n",
       "pedi       False\n",
       "age        False\n",
       "label      False\n",
       "dtype: bool"
      ]
     },
     "execution_count": 6,
     "metadata": {},
     "output_type": "execute_result"
    }
   ],
   "source": [
    "df.isnull().any()"
   ]
  },
  {
   "cell_type": "code",
   "execution_count": 7,
   "metadata": {},
   "outputs": [
    {
     "data": {
      "text/plain": [
       "preg       False\n",
       "plas       False\n",
       "pres       False\n",
       "skin       False\n",
       "insulin    False\n",
       "mass       False\n",
       "pedi       False\n",
       "age        False\n",
       "label      False\n",
       "dtype: bool"
      ]
     },
     "execution_count": 7,
     "metadata": {},
     "output_type": "execute_result"
    }
   ],
   "source": [
    "df.dropna(axis = 0, inplace = True)\n",
    "df.isnull().any()"
   ]
  },
  {
   "cell_type": "code",
   "execution_count": 8,
   "metadata": {},
   "outputs": [
    {
     "name": "stdout",
     "output_type": "stream",
     "text": [
      "\n",
      "Get the shape\n",
      "(532, 9)\n",
      "\n",
      "Get the data structure\n",
      "<class 'pandas.core.frame.DataFrame'>\n",
      "Int64Index: 532 entries, 0 to 767\n",
      "Data columns (total 9 columns):\n",
      "preg       532 non-null int64\n",
      "plas       532 non-null float64\n",
      "pres       532 non-null float64\n",
      "skin       532 non-null float64\n",
      "insulin    532 non-null int64\n",
      "mass       532 non-null float64\n",
      "pedi       532 non-null float64\n",
      "age        532 non-null int64\n",
      "label      532 non-null int64\n",
      "dtypes: float64(5), int64(4)\n",
      "memory usage: 41.6 KB\n",
      "None\n",
      "\n",
      "Print first five rows\n",
      "   preg   plas  pres  skin  insulin  mass   pedi  age  label\n",
      "0     6  148.0  72.0  35.0        0  33.6  0.627   50      1\n",
      "1     1   85.0  66.0  29.0        0  26.6  0.351   31      0\n",
      "3     1   89.0  66.0  23.0       94  28.1  0.167   21      0\n",
      "4     0  137.0  40.0  35.0      168  43.1  2.288   33      1\n",
      "6     3   78.0  50.0  32.0       88  31.0  0.248   26      1\n"
     ]
    }
   ],
   "source": [
    "### --------------------\n",
    "### get the shape\n",
    "### --------------------\n",
    "print('\\nGet the shape')\n",
    "print(df.shape)\n",
    "### --------------------\n",
    "### Get the data structure\n",
    "### --------------------\n",
    "print('\\nGet the data structure')\n",
    "print(df.info())\n",
    "### -----------------------\n",
    "### Get the first five rows\n",
    "### -----------------------\n",
    "print('\\nPrint first five rows')\n",
    "print(df.head())"
   ]
  },
  {
   "cell_type": "code",
   "execution_count": 9,
   "metadata": {},
   "outputs": [
    {
     "name": "stdout",
     "output_type": "stream",
     "text": [
      "category\n"
     ]
    }
   ],
   "source": [
    "categorical_var =  ['preg','insulin','label']\n",
    "\n",
    "for i in range(len(categorical_var)):\n",
    "    df[categorical_var[i]] = df[categorical_var[i]].astype('category') \n",
    "\n",
    "print(df['label'].dtype)"
   ]
  },
  {
   "cell_type": "code",
   "execution_count": 10,
   "metadata": {},
   "outputs": [
    {
     "data": {
      "text/html": [
       "<div>\n",
       "<style scoped>\n",
       "    .dataframe tbody tr th:only-of-type {\n",
       "        vertical-align: middle;\n",
       "    }\n",
       "\n",
       "    .dataframe tbody tr th {\n",
       "        vertical-align: top;\n",
       "    }\n",
       "\n",
       "    .dataframe thead th {\n",
       "        text-align: right;\n",
       "    }\n",
       "</style>\n",
       "<table border=\"1\" class=\"dataframe\">\n",
       "  <thead>\n",
       "    <tr style=\"text-align: right;\">\n",
       "      <th></th>\n",
       "      <th>plas</th>\n",
       "      <th>pres</th>\n",
       "      <th>skin</th>\n",
       "      <th>mass</th>\n",
       "      <th>pedi</th>\n",
       "      <th>age</th>\n",
       "    </tr>\n",
       "  </thead>\n",
       "  <tbody>\n",
       "    <tr>\n",
       "      <th>count</th>\n",
       "      <td>532.000000</td>\n",
       "      <td>532.000000</td>\n",
       "      <td>532.000000</td>\n",
       "      <td>532.000000</td>\n",
       "      <td>532.000000</td>\n",
       "      <td>532.000000</td>\n",
       "    </tr>\n",
       "    <tr>\n",
       "      <th>mean</th>\n",
       "      <td>121.030075</td>\n",
       "      <td>71.505639</td>\n",
       "      <td>29.182331</td>\n",
       "      <td>32.890226</td>\n",
       "      <td>0.502966</td>\n",
       "      <td>31.614662</td>\n",
       "    </tr>\n",
       "    <tr>\n",
       "      <th>std</th>\n",
       "      <td>30.999226</td>\n",
       "      <td>12.310253</td>\n",
       "      <td>10.523878</td>\n",
       "      <td>6.881109</td>\n",
       "      <td>0.344546</td>\n",
       "      <td>10.761584</td>\n",
       "    </tr>\n",
       "    <tr>\n",
       "      <th>min</th>\n",
       "      <td>56.000000</td>\n",
       "      <td>24.000000</td>\n",
       "      <td>7.000000</td>\n",
       "      <td>18.200000</td>\n",
       "      <td>0.085000</td>\n",
       "      <td>21.000000</td>\n",
       "    </tr>\n",
       "    <tr>\n",
       "      <th>25%</th>\n",
       "      <td>98.750000</td>\n",
       "      <td>64.000000</td>\n",
       "      <td>22.000000</td>\n",
       "      <td>27.875000</td>\n",
       "      <td>0.258750</td>\n",
       "      <td>23.000000</td>\n",
       "    </tr>\n",
       "    <tr>\n",
       "      <th>50%</th>\n",
       "      <td>115.000000</td>\n",
       "      <td>72.000000</td>\n",
       "      <td>29.000000</td>\n",
       "      <td>32.800000</td>\n",
       "      <td>0.416000</td>\n",
       "      <td>28.000000</td>\n",
       "    </tr>\n",
       "    <tr>\n",
       "      <th>75%</th>\n",
       "      <td>141.250000</td>\n",
       "      <td>80.000000</td>\n",
       "      <td>36.000000</td>\n",
       "      <td>36.900000</td>\n",
       "      <td>0.658500</td>\n",
       "      <td>38.000000</td>\n",
       "    </tr>\n",
       "    <tr>\n",
       "      <th>max</th>\n",
       "      <td>199.000000</td>\n",
       "      <td>110.000000</td>\n",
       "      <td>99.000000</td>\n",
       "      <td>67.100000</td>\n",
       "      <td>2.420000</td>\n",
       "      <td>81.000000</td>\n",
       "    </tr>\n",
       "  </tbody>\n",
       "</table>\n",
       "</div>"
      ],
      "text/plain": [
       "             plas        pres        skin        mass        pedi         age\n",
       "count  532.000000  532.000000  532.000000  532.000000  532.000000  532.000000\n",
       "mean   121.030075   71.505639   29.182331   32.890226    0.502966   31.614662\n",
       "std     30.999226   12.310253   10.523878    6.881109    0.344546   10.761584\n",
       "min     56.000000   24.000000    7.000000   18.200000    0.085000   21.000000\n",
       "25%     98.750000   64.000000   22.000000   27.875000    0.258750   23.000000\n",
       "50%    115.000000   72.000000   29.000000   32.800000    0.416000   28.000000\n",
       "75%    141.250000   80.000000   36.000000   36.900000    0.658500   38.000000\n",
       "max    199.000000  110.000000   99.000000   67.100000    2.420000   81.000000"
      ]
     },
     "execution_count": 10,
     "metadata": {},
     "output_type": "execute_result"
    }
   ],
   "source": [
    "df.describe()"
   ]
  },
  {
   "cell_type": "code",
   "execution_count": 11,
   "metadata": {},
   "outputs": [
    {
     "data": {
      "text/html": [
       "<div>\n",
       "<style scoped>\n",
       "    .dataframe tbody tr th:only-of-type {\n",
       "        vertical-align: middle;\n",
       "    }\n",
       "\n",
       "    .dataframe tbody tr th {\n",
       "        vertical-align: top;\n",
       "    }\n",
       "\n",
       "    .dataframe thead th {\n",
       "        text-align: right;\n",
       "    }\n",
       "</style>\n",
       "<table border=\"1\" class=\"dataframe\">\n",
       "  <thead>\n",
       "    <tr style=\"text-align: right;\">\n",
       "      <th></th>\n",
       "      <th>preg</th>\n",
       "      <th>insulin</th>\n",
       "      <th>label</th>\n",
       "    </tr>\n",
       "  </thead>\n",
       "  <tbody>\n",
       "    <tr>\n",
       "      <th>count</th>\n",
       "      <td>532</td>\n",
       "      <td>532</td>\n",
       "      <td>532</td>\n",
       "    </tr>\n",
       "    <tr>\n",
       "      <th>unique</th>\n",
       "      <td>17</td>\n",
       "      <td>185</td>\n",
       "      <td>2</td>\n",
       "    </tr>\n",
       "    <tr>\n",
       "      <th>top</th>\n",
       "      <td>1</td>\n",
       "      <td>0</td>\n",
       "      <td>0</td>\n",
       "    </tr>\n",
       "    <tr>\n",
       "      <th>freq</th>\n",
       "      <td>116</td>\n",
       "      <td>140</td>\n",
       "      <td>355</td>\n",
       "    </tr>\n",
       "  </tbody>\n",
       "</table>\n",
       "</div>"
      ],
      "text/plain": [
       "        preg  insulin  label\n",
       "count    532      532    532\n",
       "unique    17      185      2\n",
       "top        1        0      0\n",
       "freq     116      140    355"
      ]
     },
     "execution_count": 11,
     "metadata": {},
     "output_type": "execute_result"
    }
   ],
   "source": [
    "df.describe(include = ['category'])"
   ]
  },
  {
   "cell_type": "code",
   "execution_count": 12,
   "metadata": {},
   "outputs": [
    {
     "data": {
      "text/plain": [
       "0    [355, 66.72932330827068]\n",
       "1    [177, 33.27067669172932]\n",
       "Name: label, dtype: object"
      ]
     },
     "execution_count": 12,
     "metadata": {},
     "output_type": "execute_result"
    }
   ],
   "source": [
    "df['label'].value_counts().apply(lambda x: [x, ( x * 100) / df.shape[0]])"
   ]
  },
  {
   "cell_type": "code",
   "execution_count": 13,
   "metadata": {},
   "outputs": [
    {
     "name": "stdout",
     "output_type": "stream",
     "text": [
      "(532, 8)\n",
      "(532,)\n"
     ]
    }
   ],
   "source": [
    "feature_names   = df.columns\n",
    "feature_names  =  feature_names.drop('label')\n",
    "X              =  df.loc[:,feature_names] \n",
    "y              =  df.loc[:,'label']\n",
    "label_names    =  y.unique()\n",
    "print(X.shape)\n",
    "print(y.shape)"
   ]
  },
  {
   "cell_type": "code",
   "execution_count": 14,
   "metadata": {
    "collapsed": true
   },
   "outputs": [],
   "source": [
    "X_train, X_test, y_train, y_test = train_test_split(X, y, test_size = 0.30, random_state = 1)"
   ]
  },
  {
   "cell_type": "code",
   "execution_count": 15,
   "metadata": {
    "scrolled": true
   },
   "outputs": [
    {
     "data": {
      "text/plain": [
       "RandomForestClassifier(bootstrap=True, class_weight=None, criterion='gini',\n",
       "            max_depth=None, max_features='auto', max_leaf_nodes=None,\n",
       "            min_impurity_decrease=0.0, min_impurity_split=None,\n",
       "            min_samples_leaf=1, min_samples_split=2,\n",
       "            min_weight_fraction_leaf=0.0, n_estimators=10, n_jobs=1,\n",
       "            oob_score=False, random_state=None, verbose=0,\n",
       "            warm_start=False)"
      ]
     },
     "execution_count": 15,
     "metadata": {},
     "output_type": "execute_result"
    }
   ],
   "source": [
    "rfc = RandomForestClassifier()\n",
    "rfc.fit(X_train,y_train)"
   ]
  },
  {
   "cell_type": "code",
   "execution_count": 16,
   "metadata": {
    "collapsed": true
   },
   "outputs": [],
   "source": [
    "#Predict the response for train dataset\n",
    "predicted_train = rfc.predict(X_train)"
   ]
  },
  {
   "cell_type": "code",
   "execution_count": 17,
   "metadata": {},
   "outputs": [
    {
     "name": "stdout",
     "output_type": "stream",
     "text": [
      "\n",
      "Training Data\n",
      "[[243   2]\n",
      " [  5 122]]\n"
     ]
    }
   ],
   "source": [
    "matrix             = confusion_matrix(y_train, predicted_train)\n",
    "print(\"\\nTraining Data\")\n",
    "print(matrix)"
   ]
  },
  {
   "cell_type": "code",
   "execution_count": 18,
   "metadata": {
    "collapsed": true
   },
   "outputs": [],
   "source": [
    "def draw_cm( actual, predicted ):\n",
    "    \n",
    "    import matplotlib.pyplot as   plt\n",
    "    import sklearn.metrics   as   metrics\n",
    "    import seaborn           as   sns\n",
    "    \n",
    "    cm = metrics.confusion_matrix( actual, predicted, [1,0] )\n",
    "    sns.heatmap(cm, annot=True, fmt='.2f', xticklabels = [\"Yes\", \"No\"] , yticklabels = [\"Yes\", \"No\"] )\n",
    "    plt.ylabel('True label')\n",
    "    plt.xlabel('Predicted label')\n",
    "    plt.show()   "
   ]
  },
  {
   "cell_type": "code",
   "execution_count": 19,
   "metadata": {},
   "outputs": [
    {
     "data": {
      "image/png": "[encoded data removed]",
      "text/plain": [
       "<matplotlib.figure.Figure at 0x1dfdbd63ba8>"
      ]
     },
     "metadata": {},
     "output_type": "display_data"
    }
   ],
   "source": [
    "draw_cm(y_train, predicted_train )"
   ]
  },
  {
   "cell_type": "code",
   "execution_count": 20,
   "metadata": {},
   "outputs": [
    {
     "name": "stdout",
     "output_type": "stream",
     "text": [
      "\n",
      "Training data\n",
      "\n",
      "Training Accuracy: 98.118%\n",
      "             precision    recall  f1-score   support\n",
      "\n",
      "          0       0.98      0.99      0.99       245\n",
      "          1       0.98      0.96      0.97       127\n",
      "\n",
      "avg / total       0.98      0.98      0.98       372\n",
      "\n"
     ]
    }
   ],
   "source": [
    "accuracy_train     = rfc.score(X_train, y_train) \n",
    "measures_train     = classification_report(y_train, predicted_train) \n",
    "\n",
    "print(\"\\nTraining data\\n\")\n",
    "print(\"Training Accuracy: %.3f%%\" % (accuracy_train * 100.0))\n",
    "print(measures_train) "
   ]
  },
  {
   "cell_type": "code",
   "execution_count": 21,
   "metadata": {
    "collapsed": true
   },
   "outputs": [],
   "source": [
    "'''\n",
    "This function draws a ROC curve and shows the AUROC\n",
    "'''\n",
    "def draw_roc( actual, probs ):\n",
    "\n",
    "    import pandas            as   pd\n",
    "    import numpy             as   np\n",
    "    import seaborn           as   sns\n",
    "    import matplotlib.pyplot as   plt\n",
    "    import sklearn.metrics   as   metrics\n",
    "    import seaborn           as   sns\n",
    "    \n",
    "    fpr, tpr, thresholds = metrics.roc_curve( actual, probs,\n",
    "    drop_intermediate = False )\n",
    "    auc_score = metrics.roc_auc_score( actual, probs )\n",
    "    plt.figure(figsize=(6, 4))\n",
    "    plt.plot( fpr, tpr, label='ROC curve (area = %0.2f)' % auc_score )\n",
    "    plt.plot([0, 1], [0, 1], 'k--')\n",
    "    plt.xlim([0.0, 1.0])\n",
    "    plt.ylim([0.0, 1.05])\n",
    "    plt.xlabel('False Positive Rate or [1 - True Negative Rate]')\n",
    "    plt.ylabel('True Positive Rate')\n",
    "    plt.title('Receiver operating characteristic curve')\n",
    "    plt.legend(loc=\"lower right\")\n",
    "    plt.show()\n",
    "    return fpr, tpr, thresholds"
   ]
  },
  {
   "cell_type": "code",
   "execution_count": 22,
   "metadata": {},
   "outputs": [
    {
     "data": {
      "image/png": "[encoded data removed]",
      "text/plain": [
       "<matplotlib.figure.Figure at 0x1dfdde39cc0>"
      ]
     },
     "metadata": {},
     "output_type": "display_data"
    },
    {
     "data": {
      "text/plain": [
       "(array([0.        , 0.00816327, 1.        ]),\n",
       " array([0.        , 0.96062992, 1.        ]),\n",
       " array([2, 1, 0], dtype=int64))"
      ]
     },
     "execution_count": 22,
     "metadata": {},
     "output_type": "execute_result"
    }
   ],
   "source": [
    "n_splits           =  10\n",
    "random_state       =  1234\n",
    "scoring            = 'roc_auc'\n",
    "auc_train          = cross_val_score(rfc, X_train, y_train, cv=10, scoring = scoring)\n",
    "draw_roc( y_train, predicted_train)    "
   ]
  },
  {
   "cell_type": "code",
   "execution_count": 23,
   "metadata": {
    "collapsed": true
   },
   "outputs": [],
   "source": [
    "predicted_test = rfc.predict(X_test)"
   ]
  },
  {
   "cell_type": "code",
   "execution_count": 24,
   "metadata": {},
   "outputs": [
    {
     "name": "stdout",
     "output_type": "stream",
     "text": [
      "=== Confusion Matrix ===\n",
      "[[98 12]\n",
      " [29 21]]\n",
      "\n",
      "\n",
      "=== Classification Report ===\n",
      "             precision    recall  f1-score   support\n",
      "\n",
      "          0       0.77      0.89      0.83       110\n",
      "          1       0.64      0.42      0.51        50\n",
      "\n",
      "avg / total       0.73      0.74      0.73       160\n",
      "\n"
     ]
    }
   ],
   "source": [
    "print(\"=== Confusion Matrix ===\")\n",
    "print(confusion_matrix(y_test, predicted_test))\n",
    "print('\\n')\n",
    "print(\"=== Classification Report ===\")\n",
    "print(classification_report(y_test, predicted_test))"
   ]
  },
  {
   "cell_type": "code",
   "execution_count": 25,
   "metadata": {},
   "outputs": [
    {
     "data": {
      "image/png": "[encoded data removed]",
      "text/plain": [
       "<matplotlib.figure.Figure at 0x1dfddfe0160>"
      ]
     },
     "metadata": {},
     "output_type": "display_data"
    }
   ],
   "source": [
    "draw_cm(y_test, predicted_test)"
   ]
  },
  {
   "cell_type": "code",
   "execution_count": 26,
   "metadata": {},
   "outputs": [
    {
     "data": {
      "image/png": "[encoded data removed]",
      "text/plain": [
       "<matplotlib.figure.Figure at 0x1dfdde2c2e8>"
      ]
     },
     "metadata": {},
     "output_type": "display_data"
    },
    {
     "data": {
      "text/plain": [
       "(array([0.        , 0.10909091, 1.        ]),\n",
       " array([0.  , 0.42, 1.  ]),\n",
       " array([2, 1, 0], dtype=int64))"
      ]
     },
     "execution_count": 26,
     "metadata": {},
     "output_type": "execute_result"
    }
   ],
   "source": [
    "draw_roc( y_test, predicted_test) "
   ]
  },
  {
   "cell_type": "markdown",
   "metadata": {},
   "source": [
    "### Find optimum cut-off\n",
    "We know the data set is not balanced and hence the standard cut-off of 50% for creating the confusion matrix will not hold good. We need to find the optimum cut-off to divide the data set into two classes."
   ]
  },
  {
   "cell_type": "code",
   "execution_count": 27,
   "metadata": {
    "collapsed": true
   },
   "outputs": [],
   "source": [
    "\"\"\"\n",
    "  This function calculates the Youdens J score which gives the optimum cut-off point \n",
    "  given the fpr, tpr and thresholds\n",
    "\"\"\"\n",
    "def get_youdens_j_cutoff(fpr,tpr,thresholds):\n",
    "    j_scores = np.abs(tpr - fpr)\n",
    "    j_ordered = sorted(zip(j_scores,thresholds, fpr, tpr))\n",
    "    # Plot tpr vs 1-fpr\n",
    "    fig, ax = plt.subplots()\n",
    "    plt.plot(tpr)\n",
    "    plt.plot(1-fpr, color = 'red')\n",
    "    plt.xlabel('1-False Positive Rate')\n",
    "    plt.ylabel('True Positive Rate')\n",
    "    plt.title('Receiver operating characteristic')\n",
    "    ax.set_xticklabels([])\n",
    "    res = {'fpr': j_ordered[-1][2], 'tpr': j_ordered[-1][3], 'threshold' : j_ordered[-1][1]}\n",
    "    return res"
   ]
  },
  {
   "cell_type": "code",
   "execution_count": 28,
   "metadata": {
    "collapsed": true
   },
   "outputs": [],
   "source": [
    "predicted_proba_tr = rfc.predict_proba(X_train)[:,1]"
   ]
  },
  {
   "cell_type": "code",
   "execution_count": 29,
   "metadata": {},
   "outputs": [
    {
     "data": {
      "text/plain": [
       "{'fpr': 0.02040816326530612, 'threshold': 0.5, 'tpr': 0.9921259842519685}"
      ]
     },
     "execution_count": 29,
     "metadata": {},
     "output_type": "execute_result"
    },
    {
     "data": {
      "image/png": "[encoded data removed]",
      "text/plain": [
       "<matplotlib.figure.Figure at 0x1dfdde15390>"
      ]
     },
     "metadata": {},
     "output_type": "display_data"
    }
   ],
   "source": [
    "fpr, tpr, thresholds = metrics.roc_curve(y_train, predicted_proba_tr, \\\n",
    "                                         drop_intermediate = True )\n",
    "get_youdens_j_cutoff(fpr, tpr, thresholds)  "
   ]
  },
  {
   "cell_type": "markdown",
   "metadata": {},
   "source": [
    "### New cutoff 0.50 So no reworking is required"
   ]
  },
  {
   "cell_type": "code",
   "execution_count": 30,
   "metadata": {
    "scrolled": true
   },
   "outputs": [
    {
     "name": "stdout",
     "output_type": "stream",
     "text": [
      "n_estimators  [200, 400, 600, 800, 1000, 1200, 1400, 1600, 1800, 2000]\n",
      "max_depth  [100, 140, 180, 220, 260, 300, 340, 380, 420, 460, 500, None]\n"
     ]
    }
   ],
   "source": [
    "# number of trees in random forest\n",
    "n_estimators = [int(x) for x in np.linspace(start = 200, stop = 2000, num = 10)]\n",
    "# number of features at every split\n",
    "max_features = ['auto', 'sqrt']\n",
    "\n",
    "# max depth\n",
    "max_depth = [int(x) for x in np.linspace(100, 500, num = 11)]\n",
    "max_depth.append(None)\n",
    "print('n_estimators ', n_estimators)\n",
    "print('max_depth ', max_depth)"
   ]
  },
  {
   "cell_type": "code",
   "execution_count": 31,
   "metadata": {},
   "outputs": [
    {
     "name": "stdout",
     "output_type": "stream",
     "text": [
      "Fitting 10 folds for each of 100 candidates, totalling 1000 fits\n"
     ]
    },
    {
     "name": "stderr",
     "output_type": "stream",
     "text": [
      "[Parallel(n_jobs=-1)]: Done  33 tasks      | elapsed:   11.9s\n",
      "[Parallel(n_jobs=-1)]: Done 154 tasks      | elapsed:   53.4s\n",
      "[Parallel(n_jobs=-1)]: Done 357 tasks      | elapsed:  1.6min\n",
      "[Parallel(n_jobs=-1)]: Done 640 tasks      | elapsed:  3.0min\n",
      "[Parallel(n_jobs=-1)]: Done 1000 out of 1000 | elapsed:  4.9min finished\n"
     ]
    },
    {
     "name": "stdout",
     "output_type": "stream",
     "text": [
      "{'n_estimators': 200, 'max_features': 'auto', 'max_depth': 300, 'criterion': 'entropy'}\n"
     ]
    }
   ],
   "source": [
    "# create random grid\n",
    "random_grid = {\n",
    " 'n_estimators': n_estimators,\n",
    " 'max_features': max_features,\n",
    " 'max_depth': max_depth,\n",
    " 'criterion': [\"gini\", \"entropy\"]\n",
    " }\n",
    "# Random search of parameters\n",
    "rfc_random = RandomizedSearchCV(estimator = rfc, param_distributions = random_grid, n_iter = 100, \\\n",
    "                                cv = 10, verbose = 2, random_state = 42, n_jobs = -1)\n",
    "# Fit the model\n",
    "rfc_random.fit(X_train, y_train)\n",
    "# print results\n",
    "print(rfc_random.best_params_)"
   ]
  },
  {
   "cell_type": "code",
   "execution_count": 32,
   "metadata": {},
   "outputs": [
    {
     "data": {
      "text/plain": [
       "RandomForestClassifier(bootstrap=True, class_weight=None, criterion='entropy',\n",
       "            max_depth=300, max_features='auto', max_leaf_nodes=None,\n",
       "            min_impurity_decrease=0.0, min_impurity_split=None,\n",
       "            min_samples_leaf=1, min_samples_split=2,\n",
       "            min_weight_fraction_leaf=0.0, n_estimators=200, n_jobs=1,\n",
       "            oob_score=False, random_state=None, verbose=0,\n",
       "            warm_start=False)"
      ]
     },
     "execution_count": 32,
     "metadata": {},
     "output_type": "execute_result"
    }
   ],
   "source": [
    "rfc = RandomForestClassifier(n_estimators = rfc_random.best_params_['n_estimators'], \\\n",
    "                             max_depth    = rfc_random.best_params_['max_depth'],\\\n",
    "                             max_features = rfc_random.best_params_['max_features'],\\\n",
    "                             criterion    = rfc_random.best_params_['criterion'])\n",
    "rfc.fit(X_train,y_train)"
   ]
  },
  {
   "cell_type": "code",
   "execution_count": 33,
   "metadata": {},
   "outputs": [
    {
     "name": "stdout",
     "output_type": "stream",
     "text": [
      "=== Confusion Matrix ===\n",
      "[[245   0]\n",
      " [  0 127]]\n",
      "\n",
      "\n",
      "=== Classification Report ===\n",
      "             precision    recall  f1-score   support\n",
      "\n",
      "          0       1.00      1.00      1.00       245\n",
      "          1       1.00      1.00      1.00       127\n",
      "\n",
      "avg / total       1.00      1.00      1.00       372\n",
      "\n",
      "\n",
      "\n",
      "=== All AUC Scores ===\n",
      "[0.82461538 0.84923077 0.93230769 0.93692308 0.7        0.87019231\n",
      " 0.82852564 0.94618056 0.79166667 0.90798611]\n",
      "\n",
      "\n",
      "=== Mean AUC Score ===\n",
      "Mean AUC Score - Random Forest:  0.8587628205128206\n"
     ]
    }
   ],
   "source": [
    "rfc_predict_train   = rfc.predict(X_train)\n",
    "rfc_cv_score_train  = cross_val_score(rfc, X_train, y_train, cv = 10, scoring = 'roc_auc')\n",
    "print(\"=== Confusion Matrix ===\")\n",
    "print(confusion_matrix(y_train, rfc_predict_train))\n",
    "print('\\n')\n",
    "print(\"=== Classification Report ===\")\n",
    "print(classification_report(y_train, rfc_predict_train))\n",
    "print('\\n')\n",
    "print(\"=== All AUC Scores ===\")\n",
    "print(rfc_cv_score_train)\n",
    "print('\\n')\n",
    "print(\"=== Mean AUC Score ===\")\n",
    "print(\"Mean AUC Score - Random Forest: \", rfc_cv_score_train.mean())"
   ]
  },
  {
   "cell_type": "code",
   "execution_count": 34,
   "metadata": {},
   "outputs": [
    {
     "data": {
      "image/png": "[encoded data removed]",
      "text/plain": [
       "<matplotlib.figure.Figure at 0x1dfde0867b8>"
      ]
     },
     "metadata": {},
     "output_type": "display_data"
    }
   ],
   "source": [
    "draw_cm(y_train, rfc_predict_train)"
   ]
  },
  {
   "cell_type": "code",
   "execution_count": 35,
   "metadata": {},
   "outputs": [
    {
     "data": {
      "image/png": "[encoded data removed]",
      "text/plain": [
       "<matplotlib.figure.Figure at 0x1dfde0862b0>"
      ]
     },
     "metadata": {},
     "output_type": "display_data"
    },
    {
     "data": {
      "text/plain": [
       "(array([0., 1.]), array([1., 1.]), array([1, 0], dtype=int64))"
      ]
     },
     "execution_count": 35,
     "metadata": {},
     "output_type": "execute_result"
    }
   ],
   "source": [
    "draw_roc( y_train, rfc_predict_train) "
   ]
  },
  {
   "cell_type": "code",
   "execution_count": 36,
   "metadata": {},
   "outputs": [
    {
     "name": "stdout",
     "output_type": "stream",
     "text": [
      "=== Confusion Matrix ===\n",
      "[[96 14]\n",
      " [19 31]]\n",
      "\n",
      "\n",
      "=== Classification Report ===\n",
      "             precision    recall  f1-score   support\n",
      "\n",
      "          0       0.83      0.87      0.85       110\n",
      "          1       0.69      0.62      0.65        50\n",
      "\n",
      "avg / total       0.79      0.79      0.79       160\n",
      "\n"
     ]
    }
   ],
   "source": [
    "rfc_predict_test   = rfc.predict(X_test)\n",
    "print(\"=== Confusion Matrix ===\")\n",
    "print(confusion_matrix(y_test, rfc_predict_test ))\n",
    "print('\\n')\n",
    "print(\"=== Classification Report ===\")\n",
    "print(classification_report(y_test, rfc_predict_test ))"
   ]
  },
  {
   "cell_type": "code",
   "execution_count": 37,
   "metadata": {},
   "outputs": [
    {
     "data": {
      "image/png": "[encoded data removed]",
      "text/plain": [
       "<matplotlib.figure.Figure at 0x1dfde079898>"
      ]
     },
     "metadata": {},
     "output_type": "display_data"
    }
   ],
   "source": [
    "draw_cm(y_test, rfc_predict_test)"
   ]
  },
  {
   "cell_type": "code",
   "execution_count": 38,
   "metadata": {},
   "outputs": [
    {
     "data": {
      "image/png": "[encoded data removed]",
      "text/plain": [
       "<matplotlib.figure.Figure at 0x1dfde1065c0>"
      ]
     },
     "metadata": {},
     "output_type": "display_data"
    },
    {
     "data": {
      "text/plain": [
       "(array([0.        , 0.12727273, 1.        ]),\n",
       " array([0.  , 0.62, 1.  ]),\n",
       " array([2, 1, 0], dtype=int64))"
      ]
     },
     "execution_count": 38,
     "metadata": {},
     "output_type": "execute_result"
    }
   ],
   "source": [
    "draw_roc( y_test, rfc_predict_test) "
   ]
  },
  {
   "cell_type": "code",
   "execution_count": 39,
   "metadata": {},
   "outputs": [
    {
     "name": "stdout",
     "output_type": "stream",
     "text": [
      "plas       0.239779\n",
      "age        0.147950\n",
      "mass       0.129815\n",
      "pedi       0.113124\n",
      "insulin    0.105441\n",
      "skin       0.103718\n",
      "pres       0.082959\n",
      "preg       0.077214\n",
      "dtype: float64\n"
     ]
    }
   ],
   "source": [
    "feature_imp = pd.Series(rfc.feature_importances_, index = feature_names).sort_values(ascending = False)\n",
    "print(feature_imp)"
   ]
  },
  {
   "cell_type": "code",
   "execution_count": 40,
   "metadata": {},
   "outputs": [
    {
     "name": "stderr",
     "output_type": "stream",
     "text": [
      "D:\\Python\\lib\\site-packages\\seaborn\\categorical.py:1460: FutureWarning: remove_na is deprecated and is a private function. Do not use.\n",
      "  stat_data = remove_na(group_data)\n"
     ]
    },
    {
     "data": {
      "image/png": "[encoded data removed]",
      "text/plain": [
       "<matplotlib.figure.Figure at 0x1dfde172b00>"
      ]
     },
     "metadata": {},
     "output_type": "display_data"
    }
   ],
   "source": [
    "# Creating a bar plot\n",
    "sns.barplot(x = feature_imp, y = feature_imp.index)\n",
    "# Add labels to your graph\n",
    "plt.xlabel('Feature Importance Score')\n",
    "plt.ylabel('Features')\n",
    "plt.title(\"Visualizing Important Features\")\n",
    "plt.legend()\n",
    "plt.show()"
   ]
  }
 ],
 "metadata": {
  "kernelspec": {
   "display_name": "Python 3 (ipykernel)",
   "language": "python",
   "name": "python3"
  },
  "language_info": {
   "codemirror_mode": {
    "name": "ipython",
    "version": 3
   },
   "file_extension": ".py",
   "mimetype": "text/x-python",
   "name": "python",
   "nbconvert_exporter": "python",
   "pygments_lexer": "ipython3",
   "version": "3.11.3"
  }
 },
 "nbformat": 4,
 "nbformat_minor": 2
}
