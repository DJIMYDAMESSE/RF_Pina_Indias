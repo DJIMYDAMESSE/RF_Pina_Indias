{
 "cells": [
  {
   "cell_type": "markdown",
   "metadata": {},
   "source": [
    "**Dataset:  pima-indians-diabetes.data** is originally from the National Institute of Diabetes and Digestive and Kidney Diseases. \n",
    "\n",
    "The objective is to predict based on diagnostic measurements whether a patient has diabetes.\n",
    "\n",
    "Several constraints were placed on the selection of these instances from a larger database. In particular, all patients here are females at least 21 years old of Pima Indian heritage.\n",
    "\n",
    "Source: Kaggle\n",
    "https://www.kaggle.com/uciml/pima-indians-diabetes-database\n"
   ]
  },
  {
   "cell_type": "markdown",
   "metadata": {},
   "source": [
    "|SlNo|Variable|Description|\n",
    "|---|--------------|--------------------------------|\n",
    "|1|Pregnancies|Number of times pregnant|\n",
    "|2|Glucose|Plasma glucose concentration a 2 hours in an oral glucose tolerance test|\n",
    "|3|BloodPressure|Diastolic blood pressure (mm Hg)|\n",
    "|4|SkinThickness|Triceps skin fold thickness (mm)|\n",
    "|5|Insulin|2-Hour serum insulin (mu U/ml)|\n",
    "|6|BMI|Body mass index (weight in kg/(height in m)^2)|\n",
    "|7|DiabetesPedigreeFunction|Diabetes pedigree function|\n",
    "|8|Age|Age (years)|\n",
    "|9|Outcome|Class variable (0 or 1)|"
   ]
  },
  {
   "cell_type": "markdown",
   "metadata": {},
   "source": [
    "### To print the elapsed time, first get the start time"
   ]
  },
  {
   "cell_type": "code",
   "execution_count": 1,
   "metadata": {},
   "outputs": [],
   "source": [
    "import time\n",
    "from datetime import timedelta\n",
    "\n",
    "start_time = time.time()"
   ]
  },
  {
   "cell_type": "code",
   "execution_count": 2,
   "metadata": {},
   "outputs": [],
   "source": [
    "\"\"\"\n",
    "Created on Sat Aug  4 16:06:29 2018\n",
    "\n",
    "@author: PVS\n",
    "\n",
    "@description: This file holds functions for building models \n",
    "\n",
    "\"\"\"\n",
    "\"\"\"    \n",
    "1)   Function name: draw_cm\n",
    "    \n",
    "     Description: This function does the following:\n",
    "         \n",
    "                  Plots a heat graph for confusion matrix \n",
    "     Input:\n",
    "            1) Data Frame containing actual values\n",
    "     \n",
    "            2) Data frame containing predicted values\n",
    "    \n",
    "    \n",
    "     Output:\n",
    "            1) a nice confusion matrix graph      \n",
    "\n",
    "\"\"\"\n",
    "\n",
    "def draw_cm( actual, predicted ):\n",
    "    \n",
    "    import matplotlib.pyplot as   plt\n",
    "    import sklearn.metrics   as   metrics\n",
    "    import seaborn           as   sns\n",
    "    \n",
    "    cm = metrics.confusion_matrix( actual, predicted )\n",
    "    sns.heatmap(cm, annot=True, fmt='.2f', xticklabels = [\"Yes\", \"No\"] , yticklabels = [\"Yes\", \"No\"] )\n",
    "    plt.ylabel('True label')\n",
    "    plt.xlabel('Predicted label')\n",
    "    plt.show()   \n",
    "\n",
    "### -----------------------------------------------------------------------------------------------------------------------------    \n",
    "\n",
    "\"\"\"\n",
    "2)   Function name: draw_roc\n",
    "    \n",
    "     Description: This function does the following:\n",
    "                  i) plots a ROC and reports the area under ROC for the specified input\n",
    "     Input:\n",
    "          1) Data Frame containing actual values for the target variable\n",
    "    \n",
    "          2) Data frame containing predicted probabilities\n",
    "    \n",
    "    \n",
    "     Output:\n",
    "          1) a nice ROC graph with AUROC mentioned     \n",
    "\n",
    "\"\"\"\n",
    "\n",
    "def draw_roc( actual, probs ):\n",
    "\n",
    "    import pandas            as   pd\n",
    "    import numpy             as   np\n",
    "    import seaborn           as   sns\n",
    "    import matplotlib.pyplot as   plt\n",
    "    import sklearn.metrics   as   metrics\n",
    "    import seaborn           as   sns\n",
    "    \n",
    "    fpr, tpr, thresholds = metrics.roc_curve( actual, probs,\n",
    "    drop_intermediate = False )\n",
    "    auc_score = metrics.roc_auc_score( actual, probs )\n",
    "    plt.figure(figsize=(6, 4))\n",
    "    plt.plot( fpr, tpr, label='ROC curve (area = %0.2f)' % auc_score )\n",
    "    plt.plot([0, 1], [0, 1], 'k--')\n",
    "    plt.xlim([0.0, 1.0])\n",
    "    plt.ylim([0.0, 1.05])\n",
    "    plt.xlabel('False Positive Rate or [1 - True Negative Rate]')\n",
    "    plt.ylabel('True Positive Rate')\n",
    "    plt.title('Receiver operating characteristic curve')\n",
    "    plt.legend(loc=\"lower right\")\n",
    "    plt.show()\n",
    "    return fpr, tpr, thresholds\n",
    "\n",
    "### -----------------------------------------------------------------------------------------------------------------------------    \n"
   ]
  },
  {
   "cell_type": "code",
   "execution_count": 3,
   "metadata": {},
   "outputs": [
    {
     "data": {
      "text/plain": [
       "\"\\n['accuracy', 'adjusted_rand_score', 'average_precision', 'f1', 'f1_macro', \\n'f1_micro', 'f1_samples', 'f1_weighted', 'log_loss', 'mean_absolute_error', \\n'mean_squared_error', 'median_absolute_error', 'precision',   \\n'precision_macro', 'precision_micro', 'precision_samples', \\n'precision_weighted', 'r2', 'recall', 'recall_macro', 'recall_micro', \\n'recall_samples', 'recall_weighted', 'roc_auc']\\n\""
      ]
     },
     "execution_count": 3,
     "metadata": {},
     "output_type": "execute_result"
    }
   ],
   "source": [
    "\"\"\"\n",
    "3) Function name: check_linearity()\n",
    "        \n",
    "    Description: This function checks whether continuous Independent Variable is linearly related to the log odds of the IV by plotting the IV in question and look for an S-shaped curve. \n",
    "\n",
    "    Input:\n",
    "          1) Data Frame containing the independent variable\n",
    "    \n",
    "          2) Data frame containing the complete data\n",
    "    \n",
    "          3) Title for the graph\n",
    "    \n",
    "    Output:\n",
    "          1) a  plot showing the linearity of the independent variable  \n",
    "\n",
    "\"\"\"\n",
    "def check_linearity(x1, df, title, y1):\n",
    "    \n",
    "    import matplotlib.pyplot as plt\n",
    "    import seaborn           as sns\n",
    "    \n",
    "    sns.regplot(x = x1, y= y1, data= df, logistic= True).set_title(title)\n",
    "    plt.show()\n",
    "\n",
    "### -----------------------------------------------------------------------------------------------------------------------------    \n",
    "\"\"\"\n",
    "4)  Function name: get_significant_vars\n",
    "        \n",
    "    Description: This function lists the significant variables at the specified significance level from the coefficients table\n",
    "\n",
    "    Input:\n",
    "      1) Fitted model\n",
    "    \n",
    "      2) Desired Level of significance\n",
    "    \n",
    "    Output:\n",
    "      1) List of significant variables at the desired level of significance        \n",
    "\n",
    "\"\"\"\n",
    "def get_significant_vars( lm, sig_level ):\n",
    "    \n",
    "    import pandas as pd\n",
    "    \n",
    "    var_p_vals_df         = pd.DataFrame( lm.pvalues )\n",
    "    var_p_vals_df['vars'] = var_p_vals_df.index\n",
    "    var_p_vals_df.columns = ['pvals', 'vars']\n",
    "    \n",
    "    return list( var_p_vals_df[var_p_vals_df.pvals <= sig_level]['vars'] )\n",
    "\n",
    "### -----------------------------------------------------------------------------------------------------------------------------    \n",
    "\n",
    "\"\"\"\n",
    "5) Function Name: logit_reg\n",
    "\n",
    "   Description: This **function** builds the logistic regression model.\n",
    "   \n",
    "   Input: 1) splits for k fold \n",
    "          2) random seed number\n",
    "          3) Training data for predictor variables\n",
    "          4) Testin   data for predictor variables\n",
    "          5) Training data for target variable\n",
    "          6) Testing data  for target variable\n",
    "\n",
    "   Output: 1) AUROC 2) Metrics - Precision, Recall, F1\n",
    "   \n",
    "\"\"\"\n",
    "\n",
    "def logit_reg(n_splits, random_state, X_train, X_test, Y_train, Y_test ):  \n",
    "\n",
    "    import statsmodels.api          as      sm\n",
    "    \n",
    "    from   sklearn.linear_model     import  LogisticRegression \n",
    "    from   sklearn.metrics          import  classification_report\n",
    "    from   sklearn.metrics          import  confusion_matrix\n",
    "    from   sklearn.model_selection  import  cross_val_score\n",
    "    \n",
    "    from   sklearn.model_selection  import  KFold \n",
    "    \n",
    "    model = LogisticRegression() \n",
    "\n",
    "    model.fit(X_train, Y_train) \n",
    "    predicted_train    = model.predict(X_train) \n",
    "    matrix             = confusion_matrix(Y_train, predicted_train)\n",
    "    print(\"\\nTraining Data\")\n",
    "    print(matrix)\n",
    "    draw_cm(Y_train, predicted_train )\n",
    "    \n",
    "    accuracy_train = model.score(X_train, Y_train) \n",
    "    print(\"Training Accuracy: %.3f%%\" % (accuracy_train * 100.0))\n",
    "\n",
    "    print(\"\\nTesting Data\")\n",
    "\n",
    "    predicted_testing  = model.predict(X_test) \n",
    "    matrix             = confusion_matrix(Y_test, predicted_testing)\n",
    "    print(matrix)\n",
    "    draw_cm(Y_test, predicted_testing)\n",
    "    \n",
    "    accuracy_test      = model.score(X_test, Y_test) \n",
    "    print(\"Test Accuracy: %.3f%%\" % (accuracy_test * 100.0))\n",
    "    \n",
    "\n",
    "    measures_train     = classification_report(Y_train, predicted_train) \n",
    "    print(\"\\nTraining data\")\n",
    "    print(measures_train) \n",
    "\n",
    "    measures_test      = classification_report(Y_test, predicted_testing) \n",
    "    print(\"\\nTesting data\")\n",
    "    print(measures_test) \n",
    "    \n",
    "    kfold              = KFold(n_splits = n_splits, shuffle = True, random_state = random_state)\n",
    "    scoring            = 'roc_auc' \n",
    "\n",
    "    auc_train          = cross_val_score(model, X_train, Y_train,  scoring=scoring) \n",
    "    print(\"\\nTraining data\")\n",
    "    draw_roc( Y_train, predicted_train)    \n",
    "\n",
    "\n",
    "    auc_test           = cross_val_score(model, X_test, Y_test,  scoring=scoring) \n",
    "    print(\"\\nTesting data\")    \n",
    "    draw_roc( Y_test, predicted_testing)\n",
    "    \n",
    "    print(\"\\nWith K fold cross validation\")\n",
    "    \n",
    "    scoring           = 'accuracy'\n",
    "    print(\"\\nScoring:  %s\" %scoring)\n",
    "    cv_accuracy_train = cross_val_score(model, X_train, Y_train, cv = kfold,  scoring=scoring)\n",
    "    print(cv_accuracy_train)\n",
    "    print(\"\\nAccuracy: %.3f (%.3f)\" % (cv_accuracy_train.mean(), cv_accuracy_train.std()))\n",
    "    \n",
    "    scoring           = 'precision'\n",
    "    print(\"\\nScoring:  %s\" %scoring)    \n",
    "    cv_precision_train = cross_val_score(model, X_train, Y_train, cv = kfold,  scoring=scoring)\n",
    "    print(cv_precision_train)\n",
    "    print(\"\\nPrecision: %.3f (%.3f)\" % (cv_precision_train.mean(), cv_precision_train.std()))\n",
    "  \n",
    "    scoring           = 'recall'\n",
    "    print(\"\\nScoring:  %s\" %scoring)\n",
    "    \n",
    "    cv_recall_train   = cross_val_score(model, X_train, Y_train, cv = kfold,  scoring=scoring)\n",
    "    print(cv_recall_train)\n",
    "    print(\"\\nRecall: %.3f (%.3f)\" % (cv_recall_train.mean(), cv_recall_train.std()))\n",
    "    \n",
    "    scoring           = 'roc_auc'\n",
    "    print(\"\\nScoring:  %s\" %scoring)    \n",
    "    cv_roc_auc_train = cross_val_score(model, X_train, Y_train, cv = kfold,  scoring=scoring)\n",
    "    print(cv_roc_auc_train)\n",
    "    print(\"\\nAUROC: %.3f (%.3f)\" % (cv_roc_auc_train.mean(), cv_roc_auc_train.std()))\n",
    "    \n",
    "\"\"\"\n",
    "['accuracy', 'adjusted_rand_score', 'average_precision', 'f1', 'f1_macro', \n",
    "'f1_micro', 'f1_samples', 'f1_weighted', 'log_loss', 'mean_absolute_error', \n",
    "'mean_squared_error', 'median_absolute_error', 'precision',   \n",
    "'precision_macro', 'precision_micro', 'precision_samples', \n",
    "'precision_weighted', 'r2', 'recall', 'recall_macro', 'recall_micro', \n",
    "'recall_samples', 'recall_weighted', 'roc_auc']\n",
    "\"\"\"\n",
    "    \n",
    "### ------------------------------------------------------------------------------------------\n"
   ]
  },
  {
   "cell_type": "code",
   "execution_count": 4,
   "metadata": {},
   "outputs": [],
   "source": [
    "\"\"\"\n",
    "6) Function Name: split_target_predictor\n",
    "\n",
    "   Description: This **function** Split data into target and predictor variables.\n",
    "   \n",
    "   Input: 1) Data frame 2) Target variable name\n",
    "\n",
    "   Output: 1) Array of predictor variables 2) Array of target variables\n",
    "   \n",
    "\"\"\"\n",
    "\n",
    "def split_target_predictor(dataframe, target_name): \n",
    "\n",
    "    import pandas as pd\n",
    "    \n",
    "    df                 = pd.DataFrame(dataframe)\n",
    "    predictor_names    = list(df.columns)\n",
    "    array              = df.values \n",
    "    \n",
    "    #target_name        = input('Target variable name: ')\n",
    "    \n",
    "    predictor_names.remove(target_name)\n",
    "   \n",
    "    idx                = [df.columns.get_loc(c) for c in df.columns if c in predictor_names]\n",
    "    X                  = array[:,idx] \n",
    "\n",
    "    \n",
    "    idy                =  df.columns.get_loc(target_name)\n",
    "    Y                  = array[:,idy] \n",
    "    return X, Y\n",
    "\n",
    "### --------------------------------------------------------------------------------------------\n",
    "\n",
    "\"\"\"\n",
    "7) Function Name: split_train_test\n",
    "\n",
    "   Description: This function splits the data into training data and test data in the specified \n",
    "                proportion.\n",
    "   \n",
    "   Input: 1) Array for Predictor variables \n",
    "          2) Array for Target variable\n",
    "          3) Test data proportion\n",
    "          4) Seed for random number used in split\n",
    "    \n",
    "    \n",
    "   Output: 1) Array of Training data for predictor variables\n",
    "           2) Array of Training data for target variable\n",
    "           3) Array of Testing  data for predictor variables\n",
    "           4) Array of Testing  data for target variable\n",
    "          \n",
    "   \n",
    "\"\"\"\n",
    "\n",
    "def split_train_test(X, Y, test_size = 0.3, seed = 123): \n",
    "    \n",
    "    from   sklearn.model_selection  import  train_test_split\n",
    "\n",
    "    X_train, X_test, Y_train, Y_test = train_test_split(X, Y, test_size = test_size, random_state = seed) \n",
    "\n",
    "    return X_train, X_test, Y_train, Y_test\n",
    "\n",
    "### --------------------------------------------------------------------------------------------"
   ]
  },
  {
   "cell_type": "code",
   "execution_count": 5,
   "metadata": {},
   "outputs": [
    {
     "name": "stdout",
     "output_type": "stream",
     "text": [
      "\n",
      "Current working directory G:\\DSE-Capstone\\DSE-B-Jan 22- Group 4\n"
     ]
    }
   ],
   "source": [
    "import pandas            as  pd\n",
    "import numpy             as  np\n",
    "import seaborn           as  sns\n",
    "import matplotlib.pyplot as  plt\n",
    "import statsmodels.api   as  sm\n",
    "import sys, os\n",
    "\n",
    "print(\"\\nCurrent working directory %s\" %os.getcwd())\n",
    "\n",
    "names  = ['preg', 'plas', 'pres', 'skin', 'test', 'mass', 'pedi', 'age', 'outcome'] \n",
    "data   = pd.read_csv(r'G:\\DSE-Capstone\\DSE-B-Jan 22- Group 4\\Data\\pima-indians-diabetes.data.csv',\\\n",
    "                     names = names, header =0,index_col=0) \n",
    "target = 'outcome'\n",
    "n      = data.shape[0]"
   ]
  },
  {
   "cell_type": "markdown",
   "metadata": {},
   "source": [
    "### Data structure"
   ]
  },
  {
   "cell_type": "code",
   "execution_count": 6,
   "metadata": {},
   "outputs": [
    {
     "name": "stdout",
     "output_type": "stream",
     "text": [
      "<class 'pandas.core.frame.DataFrame'>\n",
      "Int64Index: 767 entries, 1 to 1\n",
      "Data columns (total 8 columns):\n",
      " #   Column   Non-Null Count  Dtype  \n",
      "---  ------   --------------  -----  \n",
      " 0   plas     767 non-null    int64  \n",
      " 1   pres     767 non-null    int64  \n",
      " 2   skin     767 non-null    int64  \n",
      " 3   test     767 non-null    int64  \n",
      " 4   mass     767 non-null    float64\n",
      " 5   pedi     767 non-null    float64\n",
      " 6   age      767 non-null    int64  \n",
      " 7   outcome  767 non-null    int64  \n",
      "dtypes: float64(2), int64(6)\n",
      "memory usage: 53.9 KB\n",
      "None\n"
     ]
    }
   ],
   "source": [
    "print(data.info())"
   ]
  },
  {
   "cell_type": "code",
   "execution_count": 7,
   "metadata": {},
   "outputs": [
    {
     "data": {
      "text/plain": [
       "plas         int64\n",
       "pres         int64\n",
       "skin         int64\n",
       "test         int64\n",
       "mass       float64\n",
       "pedi       float64\n",
       "age          int64\n",
       "outcome      int64\n",
       "dtype: object"
      ]
     },
     "execution_count": 7,
     "metadata": {},
     "output_type": "execute_result"
    }
   ],
   "source": [
    "data.dtypes"
   ]
  },
  {
   "cell_type": "markdown",
   "metadata": {},
   "source": [
    "### Get first six rows of data"
   ]
  },
  {
   "cell_type": "code",
   "execution_count": 8,
   "metadata": {},
   "outputs": [
    {
     "name": "stdout",
     "output_type": "stream",
     "text": [
      "      plas  pres  skin  test  mass   pedi  age  outcome\n",
      "preg                                                   \n",
      "1       85    66    29     0  26.6  0.351   31        0\n",
      "8      183    64     0     0  23.3  0.672   32        1\n",
      "1       89    66    23    94  28.1  0.167   21        0\n",
      "0      137    40    35   168  43.1  2.288   33        1\n",
      "5      116    74     0     0  25.6  0.201   30        0\n"
     ]
    }
   ],
   "source": [
    "print(data.head())"
   ]
  },
  {
   "cell_type": "code",
   "execution_count": 9,
   "metadata": {},
   "outputs": [
    {
     "name": "stdout",
     "output_type": "stream",
     "text": [
      "             plas        pres        skin        test        mass        pedi  \\\n",
      "count  767.000000  767.000000  767.000000  767.000000  767.000000  767.000000   \n",
      "mean   120.859192   69.101695   20.517601   79.903520   31.990482    0.471674   \n",
      "std     31.978468   19.368155   15.954059  115.283105    7.889091    0.331497   \n",
      "min      0.000000    0.000000    0.000000    0.000000    0.000000    0.078000   \n",
      "25%     99.000000   62.000000    0.000000    0.000000   27.300000    0.243500   \n",
      "50%    117.000000   72.000000   23.000000   32.000000   32.000000    0.371000   \n",
      "75%    140.000000   80.000000   32.000000  127.500000   36.600000    0.625000   \n",
      "max    199.000000  122.000000   99.000000  846.000000   67.100000    2.420000   \n",
      "\n",
      "              age     outcome  \n",
      "count  767.000000  767.000000  \n",
      "mean    33.219035    0.348110  \n",
      "std     11.752296    0.476682  \n",
      "min     21.000000    0.000000  \n",
      "25%     24.000000    0.000000  \n",
      "50%     29.000000    0.000000  \n",
      "75%     41.000000    1.000000  \n",
      "max     81.000000    1.000000  \n"
     ]
    }
   ],
   "source": [
    "print(data.describe())"
   ]
  },
  {
   "cell_type": "markdown",
   "metadata": {},
   "source": [
    "### Split data into predictor variables data and target variable data"
   ]
  },
  {
   "cell_type": "code",
   "execution_count": 10,
   "metadata": {},
   "outputs": [
    {
     "name": "stdout",
     "output_type": "stream",
     "text": [
      "['plas', 'pres', 'skin', 'test', 'mass', 'pedi', 'age', 'outcome']\n"
     ]
    }
   ],
   "source": [
    "print(list(data.columns.values))"
   ]
  },
  {
   "cell_type": "markdown",
   "metadata": {},
   "source": [
    "## Logistic Regression"
   ]
  },
  {
   "cell_type": "markdown",
   "metadata": {},
   "source": [
    "### Logistic Regression Assumptions"
   ]
  },
  {
   "cell_type": "markdown",
   "metadata": {},
   "source": [
    "1) Binary logistic regression requires the target / dependent variable to be binary. For a binary regression, the factor level 1 of the dependent variable should represent the desired outcome (such as Success etc..).\n",
    "2) Only the meaningful variables should be included.\n",
    "3) The predictor variables should not be correlated to each other meaning the model should have little or no multicollinearity.\n",
    "4) The independent variables are linearly related to the log odds.\n",
    "5) Logistic regression requires quite a large number of observations."
   ]
  },
  {
   "cell_type": "markdown",
   "metadata": {},
   "source": [
    "#### 1) Binary logistic regression requires the target / dependent variable to be binary."
   ]
  },
  {
   "cell_type": "markdown",
   "metadata": {},
   "source": [
    "For a binary regression, the factor level 1 of the dependent variable should represent the desired outcome. In our case it is class 1 -"
   ]
  },
  {
   "cell_type": "markdown",
   "metadata": {},
   "source": [
    "#### 2) Only the meaningful variables should be included."
   ]
  },
  {
   "cell_type": "markdown",
   "metadata": {},
   "source": [
    "We have ensured that there are no unwanted variables selected for model building."
   ]
  },
  {
   "cell_type": "markdown",
   "metadata": {},
   "source": [
    "#### 3) Absence of multicollinearity"
   ]
  },
  {
   "cell_type": "markdown",
   "metadata": {},
   "source": [
    "Let us find the correlation among numerical variables."
   ]
  },
  {
   "cell_type": "code",
   "execution_count": 11,
   "metadata": {},
   "outputs": [
    {
     "name": "stdout",
     "output_type": "stream",
     "text": [
      "['plas', 'pres', 'skin', 'test', 'mass', 'pedi', 'age']\n"
     ]
    }
   ],
   "source": [
    "num_variables  = data.select_dtypes(include=[np.number]).columns.tolist()\n",
    "num_variables.remove(target) \n",
    "print(num_variables)"
   ]
  },
  {
   "cell_type": "code",
   "execution_count": 12,
   "metadata": {},
   "outputs": [
    {
     "name": "stdout",
     "output_type": "stream",
     "text": [
      "           age      mass      pedi      plas      pres      skin      test\n",
      "age   1.000000  0.035911  0.032738  0.262408  0.239571 -0.115873 -0.040942\n",
      "mass  0.035911  1.000000  0.140546  0.220955  0.281777  0.392553  0.198111\n",
      "pedi  0.032738  0.140546  1.000000  0.136903  0.041180  0.183498  0.185579\n",
      "plas  0.262408  0.220955  0.136903  1.000000  0.152498  0.056381  0.332383\n",
      "pres  0.239571  0.281777  0.041180  0.152498  1.000000  0.207308  0.089098\n",
      "skin -0.115873  0.392553  0.183498  0.056381  0.207308  1.000000  0.437974\n",
      "test -0.040942  0.198111  0.185579  0.332383  0.089098  0.437974  1.000000\n"
     ]
    }
   ],
   "source": [
    "df_num        = data[np.intersect1d(data.columns, num_variables)]\n",
    "print(df_num .corr())"
   ]
  },
  {
   "cell_type": "code",
   "execution_count": 13,
   "metadata": {},
   "outputs": [
    {
     "data": {
      "image/png": "[encoded data removed]",
      "text/plain": [
       "<Figure size 432x288 with 2 Axes>"
      ]
     },
     "metadata": {
      "needs_background": "light"
     },
     "output_type": "display_data"
    }
   ],
   "source": [
    "sns.heatmap(df_num.corr())\n",
    "plt.show()"
   ]
  },
  {
   "cell_type": "markdown",
   "metadata": {},
   "source": [
    "#### 4) The independent variables are linearly related to the log odds"
   ]
  },
  {
   "cell_type": "markdown",
   "metadata": {},
   "source": [
    "We need to check the assumption of Independent variables are linearly related to the log odds.\n",
    "\n",
    "One way to checking this is to plot the Independent variables in question and look for an S-shaped curve."
   ]
  },
  {
   "cell_type": "code",
   "execution_count": 14,
   "metadata": {},
   "outputs": [],
   "source": [
    "df2 = data"
   ]
  },
  {
   "cell_type": "code",
   "execution_count": 15,
   "metadata": {},
   "outputs": [
    {
     "data": {
      "image/png": "[encoded data removed]",
      "text/plain": [
       "<Figure size 432x288 with 1 Axes>"
      ]
     },
     "metadata": {
      "needs_background": "light"
     },
     "output_type": "display_data"
    },
    {
     "data": {
      "image/png": "[encoded data removed]",
      "text/plain": [
       "<Figure size 432x288 with 1 Axes>"
      ]
     },
     "metadata": {
      "needs_background": "light"
     },
     "output_type": "display_data"
    },
    {
     "data": {
      "image/png": "[encoded data removed]",
      "text/plain": [
       "<Figure size 432x288 with 1 Axes>"
      ]
     },
     "metadata": {
      "needs_background": "light"
     },
     "output_type": "display_data"
    },
    {
     "data": {
      "image/png": "[encoded data removed]",
      "text/plain": [
       "<Figure size 432x288 with 1 Axes>"
      ]
     },
     "metadata": {
      "needs_background": "light"
     },
     "output_type": "display_data"
    },
    {
     "data": {
      "image/png": "[encoded data removed]",
      "text/plain": [
       "<Figure size 432x288 with 1 Axes>"
      ]
     },
     "metadata": {
      "needs_background": "light"
     },
     "output_type": "display_data"
    },
    {
     "data": {
      "image/png": "[encoded data removed]",
      "text/plain": [
       "<Figure size 432x288 with 1 Axes>"
      ]
     },
     "metadata": {
      "needs_background": "light"
     },
     "output_type": "display_data"
    },
    {
     "data": {
      "image/png": "[encoded data removed]",
      "text/plain": [
       "<Figure size 432x288 with 1 Axes>"
      ]
     },
     "metadata": {
      "needs_background": "light"
     },
     "output_type": "display_data"
    }
   ],
   "source": [
    "for i in range(len(num_variables)):\n",
    "    title = num_variables[i] + '  Log odds linear plot'\n",
    "    xvar  = num_variables[i]\n",
    "    check_linearity(xvar,    df2, title, target)"
   ]
  },
  {
   "cell_type": "markdown",
   "metadata": {},
   "source": [
    "#### 5) Logistic regression requires quite a large number of observations."
   ]
  },
  {
   "cell_type": "markdown",
   "metadata": {},
   "source": [
    "A general rule of thumb is that at least 10 per variable.\n",
    "\n",
    "We have 768 observations and 9 variables; so we have approximately 85 observations per variable."
   ]
  },
  {
   "cell_type": "markdown",
   "metadata": {},
   "source": [
    "### Model Building"
   ]
  },
  {
   "cell_type": "markdown",
   "metadata": {},
   "source": [
    "Logistic Regression is a classification algorithm that is used to predict the probability of a target variable which is categorical. Here, the target variable is a dichotomous variable that contains data coded as 1 (desired outcome like success) or 0 (Example: failure).\n",
    "\n",
    "We have two popular options for building a logistic regression model; they are scikit-learn and StatsModels.\n",
    "\n",
    "Good thing about statsmodels is the summary output it produces. Students with R back ground will like it as it looks familiar."
   ]
  },
  {
   "cell_type": "code",
   "execution_count": 16,
   "metadata": {},
   "outputs": [],
   "source": [
    "X, Y       = split_target_predictor(data, 'outcome')\n",
    "X_names    = list(data.columns)"
   ]
  },
  {
   "cell_type": "code",
   "execution_count": 17,
   "metadata": {},
   "outputs": [
    {
     "name": "stdout",
     "output_type": "stream",
     "text": [
      "           0        1       2        3        4\n",
      "plas  85.000  183.000  89.000  137.000  116.000\n",
      "pres  66.000   64.000  66.000   40.000   74.000\n",
      "skin  29.000    0.000  23.000   35.000    0.000\n",
      "test   0.000    0.000  94.000  168.000    0.000\n",
      "mass  26.600   23.300  28.100   43.100   25.600\n",
      "pedi   0.351    0.672   0.167    2.288    0.201\n",
      "age   31.000   32.000  21.000   33.000   30.000\n"
     ]
    }
   ],
   "source": [
    "X_names.remove('outcome')\n",
    "X          = pd.DataFrame(X)\n",
    "X.columns  = X_names \n",
    "\n",
    "print(X.head().T)"
   ]
  },
  {
   "cell_type": "code",
   "execution_count": 18,
   "metadata": {},
   "outputs": [],
   "source": [
    "import numpy as np\n",
    "X_train, X_test, Y_train, Y_test = split_train_test(X, Y, 0.3, 12345)"
   ]
  },
  {
   "cell_type": "code",
   "execution_count": 19,
   "metadata": {},
   "outputs": [
    {
     "name": "stdout",
     "output_type": "stream",
     "text": [
      "[0. 1.] [152  79]\n"
     ]
    }
   ],
   "source": [
    "vals, counts = np.unique(Y_test, return_counts = True)\n",
    "print(vals, counts)"
   ]
  },
  {
   "cell_type": "code",
   "execution_count": 20,
   "metadata": {},
   "outputs": [
    {
     "name": "stdout",
     "output_type": "stream",
     "text": [
      "\n",
      "Shape: Total observations 536 Total features 7\n"
     ]
    }
   ],
   "source": [
    "print(\"\\nShape: Total observations %d Total features %d\" %(X_train.shape[0], X_train.shape[1]))"
   ]
  },
  {
   "cell_type": "code",
   "execution_count": 21,
   "metadata": {},
   "outputs": [
    {
     "name": "stdout",
     "output_type": "stream",
     "text": [
      "Optimization terminated successfully.\n",
      "         Current function value: 0.456024\n",
      "         Iterations 7\n"
     ]
    }
   ],
   "source": [
    "logit = sm.Logit( Y_train, sm.add_constant( X_train ) )\n",
    "lg    = logit.fit()"
   ]
  },
  {
   "cell_type": "markdown",
   "metadata": {},
   "source": [
    "### Report Psuedo R-square, model coefficients and p-value"
   ]
  },
  {
   "cell_type": "code",
   "execution_count": 22,
   "metadata": {},
   "outputs": [
    {
     "name": "stdout",
     "output_type": "stream",
     "text": [
      "                           Logit Regression Results                           \n",
      "==============================================================================\n",
      "Dep. Variable:                      y   No. Observations:                  536\n",
      "Model:                          Logit   Df Residuals:                      528\n",
      "Method:                           MLE   Df Model:                            7\n",
      "Date:                Wed, 13 Jul 2022   Pseudo R-squ.:                  0.2962\n",
      "Time:                        01:54:04   Log-Likelihood:                -244.43\n",
      "converged:                       True   LL-Null:                       -347.28\n",
      "Covariance Type:            nonrobust   LLR p-value:                 7.119e-41\n",
      "==============================================================================\n",
      "                 coef    std err          z      P>|z|      [0.025      0.975]\n",
      "------------------------------------------------------------------------------\n",
      "const         -9.3571      0.904    -10.351      0.000     -11.129      -7.585\n",
      "plas           0.0344      0.004      7.765      0.000       0.026       0.043\n",
      "pres          -0.0164      0.007     -2.467      0.014      -0.030      -0.003\n",
      "skin          -0.0031      0.009     -0.363      0.717      -0.020       0.014\n",
      "test          -0.0015      0.001     -1.390      0.165      -0.004       0.001\n",
      "mass           0.1136      0.019      5.913      0.000       0.076       0.151\n",
      "pedi           1.1648      0.363      3.208      0.001       0.453       1.876\n",
      "age            0.0436      0.010      4.152      0.000       0.023       0.064\n",
      "==============================================================================\n"
     ]
    }
   ],
   "source": [
    "print(lg.summary())"
   ]
  },
  {
   "cell_type": "markdown",
   "metadata": {},
   "source": [
    "**Observation**\n",
    "\n",
    "We observe that the McFadden R square (Pseudo R square) is 25.50 % and the model fitness is good.\n",
    "This McFadden approach is one minus the ratio of two log likelihoods. The numerator is the log likelihood of the logit model selected and the denominator is the log likelihood if the model just had an intercept.\n",
    "\n",
    "A goodness of fit using McFadden‟s pseudo r square (ρ^2) is used for fitting the overall model. McFadden suggested ρ^2 values of between 0.2 and 0.4 should be taken to represent a very good fit of the model (Louviere et al.,2000).\n",
    "http://www.lifesciencesite.com/lsj/life1002/286_B01288life1002_2028_2036.pdf"
   ]
  },
  {
   "cell_type": "markdown",
   "metadata": {},
   "source": [
    "### List the significant variables at 5% level of significance"
   ]
  },
  {
   "cell_type": "code",
   "execution_count": 23,
   "metadata": {},
   "outputs": [
    {
     "name": "stdout",
     "output_type": "stream",
     "text": [
      "['const', 'plas', 'pres', 'mass', 'pedi', 'age']\n"
     ]
    }
   ],
   "source": [
    "significant_vars = get_significant_vars( lg, sig_level = 0.05 )\n",
    "print(significant_vars)"
   ]
  },
  {
   "cell_type": "markdown",
   "metadata": {},
   "source": [
    "**Observation**\n",
    "\n",
    "The following variables are significant at 5 % level of significance:\n",
    "\n",
    "| SlNo | Significant variable |                      | \n",
    "| ---- | -------------------- | -------------------- |   \n",
    "| 1 | preg | Number of times pregnant | \n",
    "| 2 | plas | Plasma glucose concentration a 2 hours in an oral glucose tolerance test | \n",
    "| 3 | pres | Diastolic blood pressure (mm Hg) | \n",
    "| 4 | mass | Body mass index (weight in kg/(height in m)^2) | \n",
    "| 5 | pedi | Diabetes pedigree function | \n"
   ]
  },
  {
   "cell_type": "markdown",
   "metadata": {},
   "source": [
    "### Get Odds ratio"
   ]
  },
  {
   "cell_type": "code",
   "execution_count": 24,
   "metadata": {},
   "outputs": [
    {
     "name": "stdout",
     "output_type": "stream",
     "text": [
      "<class 'list'>\n"
     ]
    }
   ],
   "source": [
    "drop_vars = X_names\n",
    "print(type(drop_vars))\n",
    "significant_vars.remove('const')"
   ]
  },
  {
   "cell_type": "code",
   "execution_count": 25,
   "metadata": {},
   "outputs": [
    {
     "name": "stdout",
     "output_type": "stream",
     "text": [
      "['plas', 'pres', 'mass', 'pedi', 'age']\n",
      "['plas', 'pres', 'skin', 'test', 'mass', 'pedi', 'age']\n"
     ]
    }
   ],
   "source": [
    "print(significant_vars)\n",
    "print(drop_vars)"
   ]
  },
  {
   "cell_type": "code",
   "execution_count": 26,
   "metadata": {},
   "outputs": [
    {
     "name": "stdout",
     "output_type": "stream",
     "text": [
      "plas\n",
      "pres\n",
      "mass\n",
      "pedi\n",
      "age\n",
      "['skin', 'test']\n"
     ]
    }
   ],
   "source": [
    "for i in range(len(significant_vars)):\n",
    "    print(significant_vars[i])\n",
    "    rm = significant_vars[i]\n",
    "    drop_vars.remove(rm)\n",
    "\n",
    "print(drop_vars)"
   ]
  },
  {
   "cell_type": "code",
   "execution_count": 27,
   "metadata": {},
   "outputs": [
    {
     "name": "stdout",
     "output_type": "stream",
     "text": [
      "const    0.000086\n",
      "plas     1.035004\n",
      "pres     0.983691\n",
      "skin     0.996911\n",
      "test     0.998467\n",
      "mass     1.120315\n",
      "pedi     3.205378\n",
      "age      1.044562\n",
      "dtype: float64\n",
      "<class 'pandas.core.series.Series'>\n"
     ]
    }
   ],
   "source": [
    "print(np.exp(lg.params))\n",
    "print(type(np.exp(lg.params)))"
   ]
  },
  {
   "cell_type": "code",
   "execution_count": 28,
   "metadata": {},
   "outputs": [],
   "source": [
    "drop_vars.append('const')"
   ]
  },
  {
   "cell_type": "code",
   "execution_count": 29,
   "metadata": {},
   "outputs": [
    {
     "data": {
      "text/plain": [
       "pedi    3.205378\n",
       "mass    1.120315\n",
       "age     1.044562\n",
       "plas    1.035004\n",
       "pres    0.983691\n",
       "dtype: float64"
      ]
     },
     "execution_count": 29,
     "metadata": {},
     "output_type": "execute_result"
    }
   ],
   "source": [
    "np.exp(lg.params).reindex(significant_vars).sort_values(ascending = False)\n",
    " "
   ]
  },
  {
   "cell_type": "markdown",
   "metadata": {},
   "source": [
    "### Odds Ratio Interpretation for significant variables"
   ]
  },
  {
   "cell_type": "markdown",
   "metadata": {},
   "source": [
    "Holding other things constant:\n",
    "\n",
    "| Slno | Inference |\n",
    "| ----- | ------------------------------------- |\n",
    "| 1 | For a patient, one unit increase in Diabetes pedigree function, the odds of getting Diabetes increases by 114%.|\n",
    "| 2 | For a patient, one more pregnancy, the odds of getting Diabetes increases by 13%.|\n",
    "| 3 | For a patient, one unit increase in BMI, the odds of getting Diabetes increases by 9%.|\n",
    "| 4 | For a patient, one unit increase in plasma glucose tolerance test, the odds of getting Diabetes increases by 3%.|\n",
    "| 5 | For a patient, one unit (mm/Hg) increase in Diastolic blood pressure (mm Hg), the odds of getting Diabetes decreases by 1%.|\n",
    "\n",
    "\n"
   ]
  },
  {
   "cell_type": "code",
   "execution_count": 30,
   "metadata": {},
   "outputs": [
    {
     "name": "stdout",
     "output_type": "stream",
     "text": [
      "\n",
      "Training Data\n",
      "[[304  44]\n",
      " [ 68 120]]\n"
     ]
    },
    {
     "data": {
      "image/png": "[encoded data removed]",
      "text/plain": [
       "<Figure size 432x288 with 2 Axes>"
      ]
     },
     "metadata": {
      "needs_background": "light"
     },
     "output_type": "display_data"
    },
    {
     "name": "stdout",
     "output_type": "stream",
     "text": [
      "Training Accuracy: 79.104%\n",
      "\n",
      "Testing Data\n",
      "[[128  24]\n",
      " [ 39  40]]\n"
     ]
    },
    {
     "data": {
      "image/png": "[encoded data removed]",
      "text/plain": [
       "<Figure size 432x288 with 2 Axes>"
      ]
     },
     "metadata": {
      "needs_background": "light"
     },
     "output_type": "display_data"
    },
    {
     "name": "stdout",
     "output_type": "stream",
     "text": [
      "Test Accuracy: 72.727%\n",
      "\n",
      "Training data\n",
      "              precision    recall  f1-score   support\n",
      "\n",
      "         0.0       0.82      0.87      0.84       348\n",
      "         1.0       0.73      0.64      0.68       188\n",
      "\n",
      "    accuracy                           0.79       536\n",
      "   macro avg       0.77      0.76      0.76       536\n",
      "weighted avg       0.79      0.79      0.79       536\n",
      "\n",
      "\n",
      "Testing data\n",
      "              precision    recall  f1-score   support\n",
      "\n",
      "         0.0       0.77      0.84      0.80       152\n",
      "         1.0       0.62      0.51      0.56        79\n",
      "\n",
      "    accuracy                           0.73       231\n",
      "   macro avg       0.70      0.67      0.68       231\n",
      "weighted avg       0.72      0.73      0.72       231\n",
      "\n",
      "\n",
      "Training data\n"
     ]
    },
    {
     "name": "stderr",
     "output_type": "stream",
     "text": [
      "C:\\Users\\User\\anaconda3\\lib\\site-packages\\sklearn\\linear_model\\_logistic.py:814: ConvergenceWarning: lbfgs failed to converge (status=1):\n",
      "STOP: TOTAL NO. of ITERATIONS REACHED LIMIT.\n",
      "\n",
      "Increase the number of iterations (max_iter) or scale the data as shown in:\n",
      "    https://scikit-learn.org/stable/modules/preprocessing.html\n",
      "Please also refer to the documentation for alternative solver options:\n",
      "    https://scikit-learn.org/stable/modules/linear_model.html#logistic-regression\n",
      "  n_iter_i = _check_optimize_result(\n",
      "C:\\Users\\User\\anaconda3\\lib\\site-packages\\sklearn\\linear_model\\_logistic.py:814: ConvergenceWarning: lbfgs failed to converge (status=1):\n",
      "STOP: TOTAL NO. of ITERATIONS REACHED LIMIT.\n",
      "\n",
      "Increase the number of iterations (max_iter) or scale the data as shown in:\n",
      "    https://scikit-learn.org/stable/modules/preprocessing.html\n",
      "Please also refer to the documentation for alternative solver options:\n",
      "    https://scikit-learn.org/stable/modules/linear_model.html#logistic-regression\n",
      "  n_iter_i = _check_optimize_result(\n"
     ]
    },
    {
     "data": {
      "image/png": "[encoded data removed]",
      "text/plain": [
       "<Figure size 432x288 with 1 Axes>"
      ]
     },
     "metadata": {
      "needs_background": "light"
     },
     "output_type": "display_data"
    },
    {
     "name": "stderr",
     "output_type": "stream",
     "text": [
      "C:\\Users\\User\\anaconda3\\lib\\site-packages\\sklearn\\linear_model\\_logistic.py:814: ConvergenceWarning: lbfgs failed to converge (status=1):\n",
      "STOP: TOTAL NO. of ITERATIONS REACHED LIMIT.\n",
      "\n",
      "Increase the number of iterations (max_iter) or scale the data as shown in:\n",
      "    https://scikit-learn.org/stable/modules/preprocessing.html\n",
      "Please also refer to the documentation for alternative solver options:\n",
      "    https://scikit-learn.org/stable/modules/linear_model.html#logistic-regression\n",
      "  n_iter_i = _check_optimize_result(\n"
     ]
    },
    {
     "name": "stdout",
     "output_type": "stream",
     "text": [
      "\n",
      "Testing data\n"
     ]
    },
    {
     "name": "stderr",
     "output_type": "stream",
     "text": [
      "C:\\Users\\User\\anaconda3\\lib\\site-packages\\sklearn\\linear_model\\_logistic.py:814: ConvergenceWarning: lbfgs failed to converge (status=1):\n",
      "STOP: TOTAL NO. of ITERATIONS REACHED LIMIT.\n",
      "\n",
      "Increase the number of iterations (max_iter) or scale the data as shown in:\n",
      "    https://scikit-learn.org/stable/modules/preprocessing.html\n",
      "Please also refer to the documentation for alternative solver options:\n",
      "    https://scikit-learn.org/stable/modules/linear_model.html#logistic-regression\n",
      "  n_iter_i = _check_optimize_result(\n"
     ]
    },
    {
     "data": {
      "image/png": "[encoded data removed]",
      "text/plain": [
       "<Figure size 432x288 with 1 Axes>"
      ]
     },
     "metadata": {
      "needs_background": "light"
     },
     "output_type": "display_data"
    },
    {
     "name": "stderr",
     "output_type": "stream",
     "text": [
      "C:\\Users\\User\\anaconda3\\lib\\site-packages\\sklearn\\linear_model\\_logistic.py:814: ConvergenceWarning: lbfgs failed to converge (status=1):\n",
      "STOP: TOTAL NO. of ITERATIONS REACHED LIMIT.\n",
      "\n",
      "Increase the number of iterations (max_iter) or scale the data as shown in:\n",
      "    https://scikit-learn.org/stable/modules/preprocessing.html\n",
      "Please also refer to the documentation for alternative solver options:\n",
      "    https://scikit-learn.org/stable/modules/linear_model.html#logistic-regression\n",
      "  n_iter_i = _check_optimize_result(\n"
     ]
    },
    {
     "name": "stdout",
     "output_type": "stream",
     "text": [
      "\n",
      "With K fold cross validation\n",
      "\n",
      "Scoring:  accuracy\n"
     ]
    },
    {
     "name": "stderr",
     "output_type": "stream",
     "text": [
      "C:\\Users\\User\\anaconda3\\lib\\site-packages\\sklearn\\linear_model\\_logistic.py:814: ConvergenceWarning: lbfgs failed to converge (status=1):\n",
      "STOP: TOTAL NO. of ITERATIONS REACHED LIMIT.\n",
      "\n",
      "Increase the number of iterations (max_iter) or scale the data as shown in:\n",
      "    https://scikit-learn.org/stable/modules/preprocessing.html\n",
      "Please also refer to the documentation for alternative solver options:\n",
      "    https://scikit-learn.org/stable/modules/linear_model.html#logistic-regression\n",
      "  n_iter_i = _check_optimize_result(\n",
      "C:\\Users\\User\\anaconda3\\lib\\site-packages\\sklearn\\linear_model\\_logistic.py:814: ConvergenceWarning: lbfgs failed to converge (status=1):\n",
      "STOP: TOTAL NO. of ITERATIONS REACHED LIMIT.\n",
      "\n",
      "Increase the number of iterations (max_iter) or scale the data as shown in:\n",
      "    https://scikit-learn.org/stable/modules/preprocessing.html\n",
      "Please also refer to the documentation for alternative solver options:\n",
      "    https://scikit-learn.org/stable/modules/linear_model.html#logistic-regression\n",
      "  n_iter_i = _check_optimize_result(\n",
      "C:\\Users\\User\\anaconda3\\lib\\site-packages\\sklearn\\linear_model\\_logistic.py:814: ConvergenceWarning: lbfgs failed to converge (status=1):\n",
      "STOP: TOTAL NO. of ITERATIONS REACHED LIMIT.\n",
      "\n",
      "Increase the number of iterations (max_iter) or scale the data as shown in:\n",
      "    https://scikit-learn.org/stable/modules/preprocessing.html\n",
      "Please also refer to the documentation for alternative solver options:\n",
      "    https://scikit-learn.org/stable/modules/linear_model.html#logistic-regression\n",
      "  n_iter_i = _check_optimize_result(\n",
      "C:\\Users\\User\\anaconda3\\lib\\site-packages\\sklearn\\linear_model\\_logistic.py:814: ConvergenceWarning: lbfgs failed to converge (status=1):\n",
      "STOP: TOTAL NO. of ITERATIONS REACHED LIMIT.\n",
      "\n",
      "Increase the number of iterations (max_iter) or scale the data as shown in:\n",
      "    https://scikit-learn.org/stable/modules/preprocessing.html\n",
      "Please also refer to the documentation for alternative solver options:\n",
      "    https://scikit-learn.org/stable/modules/linear_model.html#logistic-regression\n",
      "  n_iter_i = _check_optimize_result(\n",
      "C:\\Users\\User\\anaconda3\\lib\\site-packages\\sklearn\\linear_model\\_logistic.py:814: ConvergenceWarning: lbfgs failed to converge (status=1):\n",
      "STOP: TOTAL NO. of ITERATIONS REACHED LIMIT.\n",
      "\n",
      "Increase the number of iterations (max_iter) or scale the data as shown in:\n",
      "    https://scikit-learn.org/stable/modules/preprocessing.html\n",
      "Please also refer to the documentation for alternative solver options:\n",
      "    https://scikit-learn.org/stable/modules/linear_model.html#logistic-regression\n",
      "  n_iter_i = _check_optimize_result(\n"
     ]
    },
    {
     "name": "stdout",
     "output_type": "stream",
     "text": [
      "[0.7962963  0.75925926 0.75925926 0.7037037  0.7037037  0.68518519\n",
      " 0.90566038 0.8490566  0.83018868 0.90566038]\n",
      "\n",
      "Accuracy: 0.790 (0.077)\n",
      "\n",
      "Scoring:  precision\n"
     ]
    },
    {
     "name": "stderr",
     "output_type": "stream",
     "text": [
      "C:\\Users\\User\\anaconda3\\lib\\site-packages\\sklearn\\linear_model\\_logistic.py:814: ConvergenceWarning: lbfgs failed to converge (status=1):\n",
      "STOP: TOTAL NO. of ITERATIONS REACHED LIMIT.\n",
      "\n",
      "Increase the number of iterations (max_iter) or scale the data as shown in:\n",
      "    https://scikit-learn.org/stable/modules/preprocessing.html\n",
      "Please also refer to the documentation for alternative solver options:\n",
      "    https://scikit-learn.org/stable/modules/linear_model.html#logistic-regression\n",
      "  n_iter_i = _check_optimize_result(\n",
      "C:\\Users\\User\\anaconda3\\lib\\site-packages\\sklearn\\linear_model\\_logistic.py:814: ConvergenceWarning: lbfgs failed to converge (status=1):\n",
      "STOP: TOTAL NO. of ITERATIONS REACHED LIMIT.\n",
      "\n",
      "Increase the number of iterations (max_iter) or scale the data as shown in:\n",
      "    https://scikit-learn.org/stable/modules/preprocessing.html\n",
      "Please also refer to the documentation for alternative solver options:\n",
      "    https://scikit-learn.org/stable/modules/linear_model.html#logistic-regression\n",
      "  n_iter_i = _check_optimize_result(\n",
      "C:\\Users\\User\\anaconda3\\lib\\site-packages\\sklearn\\linear_model\\_logistic.py:814: ConvergenceWarning: lbfgs failed to converge (status=1):\n",
      "STOP: TOTAL NO. of ITERATIONS REACHED LIMIT.\n",
      "\n",
      "Increase the number of iterations (max_iter) or scale the data as shown in:\n",
      "    https://scikit-learn.org/stable/modules/preprocessing.html\n",
      "Please also refer to the documentation for alternative solver options:\n",
      "    https://scikit-learn.org/stable/modules/linear_model.html#logistic-regression\n",
      "  n_iter_i = _check_optimize_result(\n",
      "C:\\Users\\User\\anaconda3\\lib\\site-packages\\sklearn\\linear_model\\_logistic.py:814: ConvergenceWarning: lbfgs failed to converge (status=1):\n",
      "STOP: TOTAL NO. of ITERATIONS REACHED LIMIT.\n",
      "\n",
      "Increase the number of iterations (max_iter) or scale the data as shown in:\n",
      "    https://scikit-learn.org/stable/modules/preprocessing.html\n",
      "Please also refer to the documentation for alternative solver options:\n",
      "    https://scikit-learn.org/stable/modules/linear_model.html#logistic-regression\n",
      "  n_iter_i = _check_optimize_result(\n"
     ]
    },
    {
     "name": "stdout",
     "output_type": "stream",
     "text": [
      "[0.77777778 0.75       0.64705882 0.61111111 0.6        0.65217391\n",
      " 0.92857143 0.83333333 0.88888889 0.8125    ]\n",
      "\n",
      "Precision: 0.750 (0.112)\n",
      "\n",
      "Scoring:  recall\n"
     ]
    },
    {
     "name": "stderr",
     "output_type": "stream",
     "text": [
      "C:\\Users\\User\\anaconda3\\lib\\site-packages\\sklearn\\linear_model\\_logistic.py:814: ConvergenceWarning: lbfgs failed to converge (status=1):\n",
      "STOP: TOTAL NO. of ITERATIONS REACHED LIMIT.\n",
      "\n",
      "Increase the number of iterations (max_iter) or scale the data as shown in:\n",
      "    https://scikit-learn.org/stable/modules/preprocessing.html\n",
      "Please also refer to the documentation for alternative solver options:\n",
      "    https://scikit-learn.org/stable/modules/linear_model.html#logistic-regression\n",
      "  n_iter_i = _check_optimize_result(\n",
      "C:\\Users\\User\\anaconda3\\lib\\site-packages\\sklearn\\linear_model\\_logistic.py:814: ConvergenceWarning: lbfgs failed to converge (status=1):\n",
      "STOP: TOTAL NO. of ITERATIONS REACHED LIMIT.\n",
      "\n",
      "Increase the number of iterations (max_iter) or scale the data as shown in:\n",
      "    https://scikit-learn.org/stable/modules/preprocessing.html\n",
      "Please also refer to the documentation for alternative solver options:\n",
      "    https://scikit-learn.org/stable/modules/linear_model.html#logistic-regression\n",
      "  n_iter_i = _check_optimize_result(\n",
      "C:\\Users\\User\\anaconda3\\lib\\site-packages\\sklearn\\linear_model\\_logistic.py:814: ConvergenceWarning: lbfgs failed to converge (status=1):\n",
      "STOP: TOTAL NO. of ITERATIONS REACHED LIMIT.\n",
      "\n",
      "Increase the number of iterations (max_iter) or scale the data as shown in:\n",
      "    https://scikit-learn.org/stable/modules/preprocessing.html\n",
      "Please also refer to the documentation for alternative solver options:\n",
      "    https://scikit-learn.org/stable/modules/linear_model.html#logistic-regression\n",
      "  n_iter_i = _check_optimize_result(\n",
      "C:\\Users\\User\\anaconda3\\lib\\site-packages\\sklearn\\linear_model\\_logistic.py:814: ConvergenceWarning: lbfgs failed to converge (status=1):\n",
      "STOP: TOTAL NO. of ITERATIONS REACHED LIMIT.\n",
      "\n",
      "Increase the number of iterations (max_iter) or scale the data as shown in:\n",
      "    https://scikit-learn.org/stable/modules/preprocessing.html\n",
      "Please also refer to the documentation for alternative solver options:\n",
      "    https://scikit-learn.org/stable/modules/linear_model.html#logistic-regression\n",
      "  n_iter_i = _check_optimize_result(\n"
     ]
    },
    {
     "name": "stdout",
     "output_type": "stream",
     "text": [
      "[0.66666667 0.57142857 0.61111111 0.55       0.6        0.625\n",
      " 0.76470588 0.625      0.5        0.86666667]\n",
      "\n",
      "Recall: 0.638 (0.101)\n",
      "\n",
      "Scoring:  roc_auc\n",
      "[0.87157287 0.8008658  0.80709877 0.82205882 0.79264706 0.73194444\n",
      " 0.90522876 0.93243243 0.86655405 0.93333333]\n",
      "\n",
      "AUROC: 0.846 (0.063)\n",
      "None\n"
     ]
    },
    {
     "name": "stderr",
     "output_type": "stream",
     "text": [
      "C:\\Users\\User\\anaconda3\\lib\\site-packages\\sklearn\\linear_model\\_logistic.py:814: ConvergenceWarning: lbfgs failed to converge (status=1):\n",
      "STOP: TOTAL NO. of ITERATIONS REACHED LIMIT.\n",
      "\n",
      "Increase the number of iterations (max_iter) or scale the data as shown in:\n",
      "    https://scikit-learn.org/stable/modules/preprocessing.html\n",
      "Please also refer to the documentation for alternative solver options:\n",
      "    https://scikit-learn.org/stable/modules/linear_model.html#logistic-regression\n",
      "  n_iter_i = _check_optimize_result(\n",
      "C:\\Users\\User\\anaconda3\\lib\\site-packages\\sklearn\\linear_model\\_logistic.py:814: ConvergenceWarning: lbfgs failed to converge (status=1):\n",
      "STOP: TOTAL NO. of ITERATIONS REACHED LIMIT.\n",
      "\n",
      "Increase the number of iterations (max_iter) or scale the data as shown in:\n",
      "    https://scikit-learn.org/stable/modules/preprocessing.html\n",
      "Please also refer to the documentation for alternative solver options:\n",
      "    https://scikit-learn.org/stable/modules/linear_model.html#logistic-regression\n",
      "  n_iter_i = _check_optimize_result(\n"
     ]
    }
   ],
   "source": [
    "n_splits, random_state = 10, 12345\n",
    "                     \n",
    "print(logit_reg(n_splits, random_state, X_train, X_test, Y_train, Y_test ))"
   ]
  },
  {
   "cell_type": "markdown",
   "metadata": {},
   "source": [
    "### To get the elapsed time, get the end time of processing"
   ]
  },
  {
   "cell_type": "code",
   "execution_count": 31,
   "metadata": {},
   "outputs": [
    {
     "name": "stdout",
     "output_type": "stream",
     "text": [
      "LR model - Execution took: 0:00:26 secs (Wall clock time)\n"
     ]
    }
   ],
   "source": [
    "logit_elapsed_time_secs = time.time() - start_time\n",
    "\n",
    "logit_elapsed_time_msg = \"LR model - Execution took: %s secs (Wall clock time)\" % timedelta(seconds=round(logit_elapsed_time_secs))\n",
    "\n",
    "print(logit_elapsed_time_msg)   "
   ]
  }
 ],
 "metadata": {
  "kernelspec": {
   "display_name": "Python 3 (ipykernel)",
   "language": "python",
   "name": "python3"
  },
  "language_info": {
   "codemirror_mode": {
    "name": "ipython",
    "version": 3
   },
   "file_extension": ".py",
   "mimetype": "text/x-python",
   "name": "python",
   "nbconvert_exporter": "python",
   "pygments_lexer": "ipython3",
   "version": "3.9.12"
  }
 },
 "nbformat": 4,
 "nbformat_minor": 2
}
